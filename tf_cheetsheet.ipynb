{
 "cells": [
  {
   "cell_type": "markdown",
   "metadata": {},
   "source": [
    "<a id=\"Index\"></a>\n",
    "## Index\n",
    "Run 0 and 1, and then each cell is independent! :)\n",
    "\n",
    "0.[Setup](#Setup)\n",
    "\n",
    "1.[Load Data](#LoadData)\n",
    "\n",
    "2.[Simple OLS](#OLS)\n",
    "\n",
    "3.[Gradients by hand](#grad)\n",
    "\n",
    "4.[Complete without Utilities](#complete)\n",
    "\n",
    "5.[Complete with Utilities](#completeWUtilities)"
   ]
  },
  {
   "cell_type": "markdown",
   "metadata": {},
   "source": [
    "<a id=\"Setup\"></a>\n",
    "## 0. Setup\n",
    "[Back to Index](#Index)"
   ]
  },
  {
   "cell_type": "code",
   "execution_count": 1,
   "metadata": {
    "collapsed": false
   },
   "outputs": [],
   "source": [
    "import numpy as np\n",
    "import tensorflow as tf\n",
    "from sklearn import preprocessing"
   ]
  },
  {
   "cell_type": "markdown",
   "metadata": {},
   "source": [
    "<a id=\"LoadData\"></a>\n",
    "## 1. Load Data\n",
    "[Back to Index](#Index)"
   ]
  },
  {
   "cell_type": "code",
   "execution_count": 2,
   "metadata": {
    "collapsed": true
   },
   "outputs": [],
   "source": [
    "n=1000\n",
    "m=2\n",
    "XX=np.random.rand(n,m)\n",
    "eps=np.random.rand(n,1)/10\n",
    "beta=[[3],[2]]\n",
    "YY=np.matmul(XX,beta)+eps"
   ]
  },
  {
   "cell_type": "markdown",
   "metadata": {},
   "source": [
    "\n",
    "<a id=\"OLS\"></a>\n",
    "\n",
    "## 2. OLS with TF\n",
    "[Back to Index](#Index)"
   ]
  },
  {
   "cell_type": "code",
   "execution_count": 24,
   "metadata": {
    "collapsed": false
   },
   "outputs": [
    {
     "name": "stdout",
     "output_type": "stream",
     "text": [
      "theta: [[ 3.04084778]\n",
      " [ 2.04269505]]\n",
      "mse: 0.00114775\n"
     ]
    }
   ],
   "source": [
    "X = tf.constant(XX, dtype=tf.float32, name=\"X\")\n",
    "y = tf.constant(YY, dtype=tf.float32, name=\"y\")\n",
    "XT = tf.transpose(X)\n",
    "theta = tf.matmul(tf.matmul(tf.matrix_inverse(tf.matmul(XT, X)), XT), y)\n",
    "y_pred = tf.matmul(X, theta, name=\"predictions\")\n",
    "error = y_pred - y\n",
    "mse = tf.reduce_mean(tf.square(error), name=\"mse\")\n",
    "\n",
    "with tf.Session() as sess:\n",
    "    print(\"theta:\", theta.eval())\n",
    "    print(\"mse:\", mse.eval())    \n",
    "\n",
    "\n",
    "\n"
   ]
  },
  {
   "cell_type": "markdown",
   "metadata": {},
   "source": [
    "\n",
    "\n",
    "\n",
    "<a id=\"grad\"></a>\n",
    "\n",
    "## 3. Gradient by hand\n",
    "[Back to Index](#Index)"
   ]
  },
  {
   "cell_type": "code",
   "execution_count": 25,
   "metadata": {
    "collapsed": false
   },
   "outputs": [
    {
     "name": "stdout",
     "output_type": "stream",
     "text": [
      "[[ 3.11065578]\n",
      " [ 1.97183597]]\n",
      "0.00194272\n"
     ]
    }
   ],
   "source": [
    "n_epochs = 1000\n",
    "learning_rate = 0.01\n",
    "\n",
    "\n",
    "X = tf.constant(XX, dtype=tf.float32, name=\"X\")\n",
    "y = tf.constant(YY, dtype=tf.float32, name=\"y\")\n",
    "theta = tf.Variable(tf.random_uniform([m, 1], -1.0, 1.0), name=\"theta\")\n",
    "\n",
    "\n",
    "\n",
    "y_pred = tf.matmul(X, theta, name=\"predictions\")\n",
    "error = y_pred - y\n",
    "mse = tf.reduce_mean(tf.square(error), name=\"mse\")\n",
    "gradients = 2/n * tf.matmul(tf.transpose(X), error)\n",
    "gradients = tf.gradients(mse, [theta])[0]\n",
    "\n",
    "training_op = tf.assign(theta, theta - learning_rate * gradients)\n",
    "\n",
    "init = tf.global_variables_initializer()\n",
    "\n",
    "with tf.Session() as sess:\n",
    "    sess.run(init)\n",
    "\n",
    "\n",
    "    for epoch in range(n_epochs):\n",
    "        sess.run(training_op)\n",
    "\n",
    "    best_theta = theta.eval()\n",
    "    best_mse=mse.eval()\n",
    "\n",
    "print(best_theta)\n",
    "print(best_mse)"
   ]
  },
  {
   "cell_type": "markdown",
   "metadata": {
    "collapsed": false
   },
   "source": [
    "\n",
    "<a id=\"complete\"></a>\n",
    "\n",
    "## 4. Complete Version (No utilities)\n",
    "[Back to Index](#Index)"
   ]
  },
  {
   "cell_type": "code",
   "execution_count": 3,
   "metadata": {
    "collapsed": false
   },
   "outputs": [
    {
     "name": "stdout",
     "output_type": "stream",
     "text": [
      "[[ 3.0243175 ]\n",
      " [ 2.09133148]]\n"
     ]
    }
   ],
   "source": [
    "# Load Data First\n",
    "n_epochs = 1000\n",
    "batch_size = 10\n",
    "n_batches = int(np.ceil(n / batch_size))\n",
    "learning_rate = 0.01\n",
    "momentum_rate=0.9\n",
    "\n",
    "\n",
    "\n",
    "# Graph (We will evaluate we n rows but also batch rows, so we use None to be flexible)\n",
    "X=tf.placeholder(tf.float32, shape=(None,m),name=\"X\")\n",
    "y=tf.placeholder(tf.float32, shape=(None,1),name=\"y\")\n",
    "\n",
    "theta = tf.Variable(tf.random_uniform([m, 1], -1.0, 1.0), name=\"theta\")\n",
    "\n",
    "y_pred = tf.matmul(X, theta, name=\"predictions\")\n",
    "error = y_pred - y\n",
    "mse = tf.reduce_mean(tf.square(error), name=\"mse\")\n",
    "\n",
    "init = tf.global_variables_initializer()\n",
    "optimizer=tf.train.GradientDescentOptimizer(learning_rate= learning_rate)\n",
    "#optimizer = tf.train.MomentumOptimizer(learning_rate=learning_rate, momentum=momentum_rate)\n",
    "training_op=optimizer.minimize(mse)\n",
    "\n",
    "\n",
    "def fetch_batch(epoch, batch, batch_size):\n",
    "    np.random.seed(epoch * n_batches + batch)\n",
    "    indices = np.random.randint(m, size=batch_size)  \n",
    "    X_batch = XX[indices] # not shown\n",
    "    y_batch = YY[indices] # not shown\n",
    "    return X_batch, y_batch\n",
    "\n",
    "\n",
    "\n",
    "#Execution Phase\n",
    "\n",
    "with tf.Session() as sess:\n",
    "    sess.run(init)    \n",
    "    for epoch in range(n_epochs):\n",
    "        for batch in range(n_batches):\n",
    "            x_batch,y_batch=fetch_batch(epoch, batch, batch_size)\n",
    "            sess.run(training_op,\n",
    "                     feed_dict={X:x_batch, y:y_batch})\n",
    "    print(theta.eval())\n",
    "    \n",
    "\n",
    "            \n"
   ]
  },
  {
   "cell_type": "markdown",
   "metadata": {
    "collapsed": true
   },
   "source": [
    "\n",
    "<a id=\"completeWUtilities\"></a>\n",
    "\n",
    "\n",
    "## Complete Version (W/ utilities)\n",
    "[Back to Index](#Index)"
   ]
  },
  {
   "cell_type": "code",
   "execution_count": 5,
   "metadata": {
    "collapsed": false
   },
   "outputs": [
    {
     "name": "stdout",
     "output_type": "stream",
     "text": [
      "[[ 2.94111276]\n",
      " [ 2.18228817]]\n"
     ]
    }
   ],
   "source": [
    "# Load Data First\n",
    "n_epochs = 100\n",
    "batch_size = 10\n",
    "n_batches = int(np.ceil(n / batch_size))\n",
    "learning_rate = 0.01\n",
    "momentum_rate=0.9\n",
    "\n",
    "\n",
    "\n",
    "def fetch_batch(epoch, batch, batch_size):\n",
    "    np.random.seed(epoch * n_batches + batch)\n",
    "    indices = np.random.randint(m, size=batch_size)  \n",
    "    X_batch = XX[indices] # not shown\n",
    "    y_batch = YY[indices] # not shown\n",
    "    return X_batch, y_batch\n",
    "\n",
    "\n",
    "# Graph (We will evaluate we n rows but also batch rows, so we use None to be flexible)\n",
    "tf.reset_default_graph()\n",
    "\n",
    "\n",
    "X=tf.placeholder(tf.float32, shape=(None,m),name=\"X\")\n",
    "y=tf.placeholder(tf.float32, shape=(None,1),name=\"y\")\n",
    "\n",
    "theta = tf.Variable(tf.random_uniform([m, 1], -1.0, 1.0), name=\"theta\")\n",
    "\n",
    "y_pred = tf.matmul(X, theta, name=\"predictions\")\n",
    "error = y_pred - y\n",
    "mse = tf.reduce_mean(tf.square(error), name=\"mse\")\n",
    "\n",
    "init = tf.global_variables_initializer()\n",
    "optimizer=tf.train.GradientDescentOptimizer(learning_rate= learning_rate)\n",
    "#optimizer = tf.train.MomentumOptimizer(learning_rate=learning_rate, momentum=momentum_rate)\n",
    "training_op=optimizer.minimize(mse)\n",
    "\n",
    "\n",
    "mse_summary=tf.summary.scalar('MSE',mse)\n",
    "file_writer=tf.summary.FileWriter('./logdir', tf.get_default_graph())\n",
    "\n",
    "\n",
    "#Execution Phase\n",
    "\n",
    "with tf.Session() as sess:\n",
    "    sess.run(init)    \n",
    "    for epoch in range(n_epochs):\n",
    "        for batch in range(n_batches):\n",
    "            x_batch,y_batch=fetch_batch(epoch, batch, batch_size)\n",
    "            summary_str = mse_summary.eval(feed_dict={X: x_batch, y: y_batch})\n",
    "            step = epoch * n_batches + batch\n",
    "            file_writer.add_summary(summary_str,step)\n",
    "            sess.run(training_op,feed_dict={X:x_batch, y:y_batch})\n",
    "            \n",
    "            \n",
    "\n",
    "    \n",
    "    print(theta.eval())\n",
    "    \n",
    "file_writer.close()"
   ]
  },
  {
   "cell_type": "code",
   "execution_count": 6,
   "metadata": {
    "collapsed": false
   },
   "outputs": [
    {
     "name": "stdout",
     "output_type": "stream",
     "text": [
      "Starting TensorBoard 41 on port 6006\n",
      "(You can navigate to http://172.17.0.2:6006)\n",
      "WARNING:tensorflow:Found more than one graph event per run, or there was a metagraph containing a graph_def, as well as one or more graph events.  Overwriting the graph with the newest event.\n",
      "WARNING:tensorflow:Found more than one graph event per run, or there was a metagraph containing a graph_def, as well as one or more graph events.  Overwriting the graph with the newest event.\n",
      "WARNING:tensorflow:Found more than one graph event per run, or there was a metagraph containing a graph_def, as well as one or more graph events.  Overwriting the graph with the newest event.\n",
      "WARNING:tensorflow:Found more than one graph event per run, or there was a metagraph containing a graph_def, as well as one or more graph events.  Overwriting the graph with the newest event.\n",
      "WARNING:tensorflow:Found more than one graph event per run, or there was a metagraph containing a graph_def, as well as one or more graph events.  Overwriting the graph with the newest event.\n",
      "WARNING:tensorflow:Found more than one graph event per run, or there was a metagraph containing a graph_def, as well as one or more graph events.  Overwriting the graph with the newest event.\n",
      "WARNING:tensorflow:Found more than one graph event per run, or there was a metagraph containing a graph_def, as well as one or more graph events.  Overwriting the graph with the newest event.\n",
      "WARNING:tensorflow:Found more than one graph event per run, or there was a metagraph containing a graph_def, as well as one or more graph events.  Overwriting the graph with the newest event.\n",
      "WARNING:tensorflow:Found more than one graph event per run, or there was a metagraph containing a graph_def, as well as one or more graph events.  Overwriting the graph with the newest event.\n",
      "WARNING:tensorflow:Found more than one graph event per run, or there was a metagraph containing a graph_def, as well as one or more graph events.  Overwriting the graph with the newest event.\n",
      "WARNING:tensorflow:Found more than one graph event per run, or there was a metagraph containing a graph_def, as well as one or more graph events.  Overwriting the graph with the newest event.\n",
      "WARNING:tensorflow:Found more than one graph event per run, or there was a metagraph containing a graph_def, as well as one or more graph events.  Overwriting the graph with the newest event.\n",
      "WARNING:tensorflow:Found more than one graph event per run, or there was a metagraph containing a graph_def, as well as one or more graph events.  Overwriting the graph with the newest event.\n",
      "WARNING:tensorflow:Found more than one metagraph event per run. Overwriting the metagraph with the newest event.\n",
      "WARNING:tensorflow:Found more than one graph event per run, or there was a metagraph containing a graph_def, as well as one or more graph events.  Overwriting the graph with the newest event.\n",
      "WARNING:tensorflow:Found more than one metagraph event per run. Overwriting the metagraph with the newest event.\n",
      "WARNING:tensorflow:Found more than one graph event per run, or there was a metagraph containing a graph_def, as well as one or more graph events.  Overwriting the graph with the newest event.\n",
      "WARNING:tensorflow:Found more than one graph event per run, or there was a metagraph containing a graph_def, as well as one or more graph events.  Overwriting the graph with the newest event.\n",
      "WARNING:tensorflow:Found more than one metagraph event per run. Overwriting the metagraph with the newest event.\n",
      "WARNING:tensorflow:Found more than one graph event per run, or there was a metagraph containing a graph_def, as well as one or more graph events.  Overwriting the graph with the newest event.\n",
      "WARNING:tensorflow:Found more than one metagraph event per run. Overwriting the metagraph with the newest event.\n",
      "^C\n",
      "Traceback (most recent call last):\n",
      "  File \"/usr/local/bin/tensorboard\", line 11, in <module>\n",
      "    sys.exit(main())\n",
      "  File \"/usr/local/lib/python2.7/dist-packages/tensorflow/tensorboard/tensorboard.py\", line 151, in main\n",
      "    tb_server.serve_forever()\n",
      "  File \"/usr/lib/python2.7/SocketServer.py\", line 236, in serve_forever\n",
      "    poll_interval)\n",
      "  File \"/usr/lib/python2.7/SocketServer.py\", line 155, in _eintr_retry\n",
      "    return func(*args)\n",
      "KeyboardInterrupt\n"
     ]
    }
   ],
   "source": [
    "! tensorboard --logdir ./logdir"
   ]
  },
  {
   "cell_type": "code",
   "execution_count": null,
   "metadata": {
    "collapsed": true
   },
   "outputs": [],
   "source": []
  },
  {
   "cell_type": "code",
   "execution_count": null,
   "metadata": {
    "collapsed": true
   },
   "outputs": [],
   "source": []
  }
 ],
 "metadata": {
  "kernelspec": {
   "display_name": "Python 2",
   "language": "python",
   "name": "python2"
  },
  "language_info": {
   "codemirror_mode": {
    "name": "ipython",
    "version": 2
   },
   "file_extension": ".py",
   "mimetype": "text/x-python",
   "name": "python",
   "nbconvert_exporter": "python",
   "pygments_lexer": "ipython2",
   "version": "2.7.9"
  }
 },
 "nbformat": 4,
 "nbformat_minor": 2
}
